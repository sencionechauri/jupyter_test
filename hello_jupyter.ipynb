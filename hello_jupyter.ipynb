{
  "cells": [
    {
      "cell_type": "code",
      "source": [
        "import random\n",
        "\n",
        "print(f'{random.randint(1, 5)}')"
      ],
      "outputs": [],
      "execution_count": null,
      "metadata": {
        "collapsed": true,
        "jupyter": {
          "source_hidden": false,
          "outputs_hidden": false
        },
        "nteract": {
          "transient": {
            "deleting": false
          }
        },
        "execution": {
          "iopub.status.busy": "2020-08-27T15:31:43.970Z",
          "iopub.execute_input": "2020-08-27T15:31:43.992Z",
          "iopub.status.idle": "2020-08-27T15:31:44.408Z",
          "shell.execute_reply": "2020-08-27T15:31:44.443Z"
        }
      }
    },
    {
      "cell_type": "markdown",
      "source": [
        "## Hola Crayola!"
      ],
      "metadata": {
        "nteract": {
          "transient": {
            "deleting": false
          }
        }
      }
    },
    {
      "cell_type": "markdown",
      "source": [
        "<video controls src=\"https://raw.githubusercontent.com/sencionechauri/jupyter_test/master/turn_down.mp4\" />\n"
      ],
      "metadata": {
        "nteract": {
          "transient": {
            "deleting": false
          }
        }
      }
    },
    {
      "cell_type": "markdown",
      "source": [
        "from IPython.display import HTML\n",
        "html_data = \"\"\"<video width=\"320\" height=\"240\" controls> <source src=\"https://raw.githubusercontent.com/sencionechauri/jupyter_test/master/turn_down.mp4\" type=\"video/mp4\"></video> \"\"\"\n",
        "# create a HTML object.\n",
        "html = HTML(data=html_data)\n",
        "\n",
        "# display the HTML object in jupyter notebook\n",
        "html"
      ],
      "metadata": {
        "nteract": {
          "transient": {
            "deleting": false
          }
        }
      }
    },
    {
      "cell_type": "code",
      "source": [
        "%%HTML\n",
        "<video width=\"320\" height=\"240\" controls>\n",
        "  <source src=\"https://raw.githubusercontent.com/sencionechauri/jupyter_test/master/turn_down.mp4\" type=\"video/mp4\">\n",
        "</video>"
      ],
      "outputs": [
        {
          "output_type": "display_data",
          "data": {
            "text/plain": "<IPython.core.display.HTML object>",
            "text/html": "<video width=\"320\" height=\"240\" controls>\n  <source src=\"https://raw.githubusercontent.com/sencionechauri/jupyter_test/master/turn_down.mp4\" type=\"video/mp4\">\n</video>\n"
          },
          "metadata": {}
        }
      ],
      "execution_count": 1,
      "metadata": {
        "collapsed": true,
        "jupyter": {
          "source_hidden": true,
          "outputs_hidden": false
        },
        "nteract": {
          "transient": {
            "deleting": false
          }
        },
        "execution": {
          "iopub.status.busy": "2020-08-27T15:47:03.578Z",
          "iopub.execute_input": "2020-08-27T15:47:03.595Z",
          "iopub.status.idle": "2020-08-27T15:47:03.679Z",
          "shell.execute_reply": "2020-08-27T15:47:03.645Z"
        }
      }
    },
    {
      "cell_type": "code",
      "source": [
        "from IPython.display import Video\n",
        "\n",
        "Video(\"https://raw.githubusercontent.com/sencionechauri/jupyter_test/master/turn_down.mp4\")"
      ],
      "outputs": [
        {
          "output_type": "execute_result",
          "execution_count": 5,
          "data": {
            "text/plain": "<IPython.core.display.Video object>",
            "text/html": "<video src=\"https://raw.githubusercontent.com/sencionechauri/jupyter_test/master/turn_down.mp4\" controls  >\n      Your browser does not support the <code>video</code> element.\n    </video>"
          },
          "metadata": {}
        }
      ],
      "execution_count": 5,
      "metadata": {
        "collapsed": true,
        "jupyter": {
          "source_hidden": false,
          "outputs_hidden": false
        },
        "nteract": {
          "transient": {
            "deleting": false
          }
        },
        "execution": {
          "iopub.status.busy": "2020-08-27T16:10:05.574Z",
          "iopub.execute_input": "2020-08-27T16:10:05.592Z",
          "iopub.status.idle": "2020-08-27T16:10:05.666Z",
          "shell.execute_reply": "2020-08-27T16:10:05.692Z"
        }
      }
    },
    {
      "cell_type": "markdown",
      "source": [
        "<iframe src=\"https://drive.google.com/file/d/1Iv-GCU2N9kN3567hVRK4NXkQQa1qL2iZ/preview\" width=\"640\" height=\"480\"></iframe>"
      ],
      "metadata": {
        "nteract": {
          "transient": {
            "deleting": false
          }
        }
      }
    },
    {
      "cell_type": "code",
      "source": [
        "%%html\n",
        "<center><iframe src=\"https://drive.google.com/file/d/1Iv-GCU2N9kN3567hVRK4NXkQQa1qL2iZ/preview\" width=\"320\" height=\"240\"></iframe></center>"
      ],
      "outputs": [
        {
          "output_type": "display_data",
          "data": {
            "text/plain": "<IPython.core.display.HTML object>",
            "text/html": "<center><iframe src=\"https://drive.google.com/file/d/1Iv-GCU2N9kN3567hVRK4NXkQQa1qL2iZ/preview\" width=\"320\" height=\"240\"></iframe></center>\n"
          },
          "metadata": {}
        }
      ],
      "execution_count": 1,
      "metadata": {
        "collapsed": true,
        "jupyter": {
          "source_hidden": true,
          "outputs_hidden": false,
          "show_code": false
        },
        "nteract": {
          "transient": {
            "deleting": false
          }
        },
        "execution": {
          "iopub.status.busy": "2020-09-09T22:21:11.437Z",
          "iopub.execute_input": "2020-09-09T22:21:11.470Z",
          "iopub.status.idle": "2020-09-09T22:21:11.580Z",
          "shell.execute_reply": "2020-09-09T22:21:11.625Z"
        }
      }
    },
    {
      "cell_type": "markdown",
      "source": [],
      "metadata": {
        "nteract": {
          "transient": {
            "deleting": false
          }
        }
      }
    }
  ],
  "metadata": {
    "kernel_info": {
      "name": "python3"
    },
    "language_info": {
      "name": "python",
      "version": "3.7.3",
      "mimetype": "text/x-python",
      "codemirror_mode": {
        "name": "ipython",
        "version": 3
      },
      "pygments_lexer": "ipython3",
      "nbconvert_exporter": "python",
      "file_extension": ".py"
    },
    "kernelspec": {
      "argv": [
        "python",
        "-m",
        "ipykernel_launcher",
        "-f",
        "{connection_file}"
      ],
      "display_name": "Python 3",
      "language": "python",
      "name": "python3"
    },
    "nteract": {
      "version": "0.25.0"
    }
  },
  "nbformat": 4,
  "nbformat_minor": 0
}
