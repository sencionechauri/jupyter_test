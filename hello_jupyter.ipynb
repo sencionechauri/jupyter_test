{
  "cells": [
    {
      "cell_type": "code",
      "source": [
        "import random\n",
        "\n",
        "print(f'{random.randint(1, 5)}')"
      ],
      "outputs": [],
      "execution_count": null,
      "metadata": {
        "collapsed": true,
        "jupyter": {
          "source_hidden": false,
          "outputs_hidden": false
        },
        "nteract": {
          "transient": {
            "deleting": false
          }
        },
        "execution": {
          "iopub.status.busy": "2020-08-27T03:24:34.788Z",
          "iopub.execute_input": "2020-08-27T03:24:34.815Z",
          "iopub.status.idle": "2020-08-27T03:24:34.857Z",
          "shell.execute_reply": "2020-08-27T03:24:34.891Z"
        }
      }
    },
    {
      "cell_type": "markdown",
      "source": [
        "## Hola Crayola!"
      ],
      "metadata": {
        "nteract": {
          "transient": {
            "deleting": false
          }
        }
      }
    },
    {
      "cell_type": "code",
      "source": [
        "<video controls src=\"\"\"https://raw.githubusercontent.com/sencionechauri/jupyter_test/master/turn_down.mp4\"\"\" />\n"
      ],
      "outputs": [],
      "execution_count": null,
      "metadata": {
        "collapsed": true,
        "jupyter": {
          "source_hidden": false,
          "outputs_hidden": false
        },
        "nteract": {
          "transient": {
            "deleting": false
          }
        },
        "execution": {
          "iopub.status.busy": "2020-08-27T04:11:39.941Z",
          "iopub.execute_input": "2020-08-27T04:11:39.960Z",
          "iopub.status.idle": "2020-08-27T04:11:40.023Z",
          "shell.execute_reply": "2020-08-27T04:11:40.053Z"
        }
      }
    },
    {
      "cell_type": "code",
      "source": [
        "%HTML\n",
        "<iframe width=\"560\" height=\"315\" src=\"https://raw.githubusercontent.com/sencionechauri/jupyter_test/master/turn_down.mp4?rel=0&amp;controls=0&amp;showinfo=0\" frameborder=\"0\" allowfullscreen></iframe>"
      ],
      "outputs": [],
      "execution_count": null,
      "metadata": {
        "collapsed": true,
        "jupyter": {
          "source_hidden": false,
          "outputs_hidden": false
        },
        "nteract": {
          "transient": {
            "deleting": false
          }
        },
        "execution": {
          "iopub.status.busy": "2020-08-27T03:57:53.991Z",
          "iopub.execute_input": "2020-08-27T03:57:54.008Z",
          "iopub.status.idle": "2020-08-27T03:57:54.073Z",
          "shell.execute_reply": "2020-08-27T03:57:54.097Z"
        }
      }
    },
    {
      "cell_type": "code",
      "source": [
        "# import IPython.display.HTML class\n",
        "from IPython.display import HTML\n",
        "\n",
        "# create a string which contains html source code.\n",
        "html_data = \"\"\"<img src='http://python.org/images/python-logo.gif'/><br/>\n",
        "       <button>Click Me</button>\"\"\"\n",
        "\n",
        "# create a HTML object.\n",
        "html = HTML(data=html_data)\n",
        "\n",
        "# display the HTML object in jupyter notebook\n",
        "html"
      ],
      "outputs": [
        {
          "output_type": "execute_result",
          "execution_count": 1,
          "data": {
            "text/plain": "<IPython.core.display.HTML object>",
            "text/html": "<img src='http://python.org/images/python-logo.gif'/><br/>\n       <button>Click Me</button>"
          },
          "metadata": {}
        }
      ],
      "execution_count": 1,
      "metadata": {
        "collapsed": true,
        "jupyter": {
          "source_hidden": false,
          "outputs_hidden": false
        },
        "nteract": {
          "transient": {
            "deleting": false
          }
        },
        "execution": {
          "iopub.status.busy": "2020-08-27T04:16:03.226Z",
          "iopub.execute_input": "2020-08-27T04:16:03.260Z",
          "iopub.status.idle": "2020-08-27T04:16:03.331Z",
          "shell.execute_reply": "2020-08-27T04:16:03.366Z"
        }
      }
    },
    {
      "cell_type": "code",
      "source": [
        "from IPython.display import HTML\n",
        "html_data = \"\"\"<video width=\"320\" height=\"240\" controls> <source src=\"https://raw.githubusercontent.com/sencionechauri/jupyter_test/master/turn_down.mp4\" type=\"video/mp4\"></video> \"\"\"\n",
        "# create a HTML object.\n",
        "html = HTML(data=html_data)\n",
        "\n",
        "# display the HTML object in jupyter notebook\n",
        "html"
      ],
      "outputs": [
        {
          "output_type": "execute_result",
          "execution_count": 2,
          "data": {
            "text/plain": "<IPython.core.display.HTML object>",
            "text/html": "<video width=\"320\" height=\"240\" controls> <source src=\"https://raw.githubusercontent.com/sencionechauri/jupyter_test/master/turn_down.mp4\" type=\"video/mp4\"></video> "
          },
          "metadata": {}
        }
      ],
      "execution_count": 2,
      "metadata": {
        "collapsed": true,
        "jupyter": {
          "source_hidden": true,
          "outputs_hidden": false
        },
        "nteract": {
          "transient": {
            "deleting": false
          }
        },
        "execution": {
          "iopub.status.busy": "2020-08-27T04:16:07.684Z",
          "iopub.execute_input": "2020-08-27T04:16:07.712Z",
          "iopub.status.idle": "2020-08-27T04:16:07.791Z",
          "shell.execute_reply": "2020-08-27T04:16:07.822Z"
        }
      }
    },
    {
      "cell_type": "code",
      "source": [],
      "outputs": [],
      "execution_count": null,
      "metadata": {
        "collapsed": true,
        "jupyter": {
          "source_hidden": false,
          "outputs_hidden": false
        },
        "nteract": {
          "transient": {
            "deleting": false
          }
        }
      }
    }
  ],
  "metadata": {
    "kernel_info": {
      "name": "python3"
    },
    "language_info": {
      "name": "python",
      "version": "3.7.3",
      "mimetype": "text/x-python",
      "codemirror_mode": {
        "name": "ipython",
        "version": 3
      },
      "pygments_lexer": "ipython3",
      "nbconvert_exporter": "python",
      "file_extension": ".py"
    },
    "kernelspec": {
      "argv": [
        "python",
        "-m",
        "ipykernel_launcher",
        "-f",
        "{connection_file}"
      ],
      "display_name": "Python 3",
      "language": "python",
      "name": "python3"
    },
    "nteract": {
      "version": "0.24.1"
    }
  },
  "nbformat": 4,
  "nbformat_minor": 0
}
