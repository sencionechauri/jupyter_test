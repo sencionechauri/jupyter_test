{
  "cells": [
    {
      "cell_type": "code",
      "source": [
        "import random\n",
        "\n",
        "print(f'{random.randint(1, 5)}')"
      ],
      "outputs": [
        {
          "output_type": "stream",
          "name": "stdout",
          "text": [
            "5\n"
          ]
        }
      ],
      "execution_count": 6,
      "metadata": {
        "collapsed": true,
        "jupyter": {
          "source_hidden": false,
          "outputs_hidden": false
        },
        "nteract": {
          "transient": {
            "deleting": false
          }
        },
        "execution": {
          "iopub.status.busy": "2020-08-27T04:39:09.643Z",
          "iopub.execute_input": "2020-08-27T04:39:09.665Z",
          "iopub.status.idle": "2020-08-27T04:39:09.719Z",
          "shell.execute_reply": "2020-08-27T04:39:09.745Z"
        }
      }
    },
    {
      "cell_type": "markdown",
      "source": [
        "## Hola Crayola!"
      ],
      "metadata": {
        "nteract": {
          "transient": {
            "deleting": false
          }
        }
      }
    },
    {
      "cell_type": "markdown",
      "source": [
        "<video controls src=\"https://raw.githubusercontent.com/sencionechauri/jupyter_test/master/turn_down.mp4\" />\n"
      ],
      "metadata": {
        "nteract": {
          "transient": {
            "deleting": false
          }
        }
      }
    },
    {
      "cell_type": "code",
      "source": [
        "from IPython.display import HTML\n",
        "html_data = \"\"\"<video width=\"320\" height=\"240\" controls> <source src=\"https://raw.githubusercontent.com/sencionechauri/jupyter_test/master/turn_down.mp4\" type=\"video/mp4\"></video> \"\"\"\n",
        "# create a HTML object.\n",
        "html = HTML(data=html_data)\n",
        "\n",
        "# display the HTML object in jupyter notebook\n",
        "html"
      ],
      "outputs": [
        {
          "output_type": "execute_result",
          "execution_count": 2,
          "data": {
            "text/plain": "<IPython.core.display.HTML object>",
            "text/html": "<video width=\"320\" height=\"240\" controls> <source src=\"https://raw.githubusercontent.com/sencionechauri/jupyter_test/master/turn_down.mp4\" type=\"video/mp4\"></video> "
          },
          "metadata": {}
        }
      ],
      "execution_count": 2,
      "metadata": {
        "collapsed": true,
        "jupyter": {
          "source_hidden": true,
          "outputs_hidden": false
        },
        "nteract": {
          "transient": {
            "deleting": false
          }
        },
        "execution": {
          "iopub.status.busy": "2020-08-27T04:16:07.684Z",
          "iopub.execute_input": "2020-08-27T04:16:07.712Z",
          "iopub.status.idle": "2020-08-27T04:16:07.791Z",
          "shell.execute_reply": "2020-08-27T04:16:07.822Z"
        }
      }
    },
    {
      "cell_type": "code",
      "source": [],
      "outputs": [],
      "execution_count": null,
      "metadata": {
        "collapsed": true,
        "jupyter": {
          "source_hidden": false,
          "outputs_hidden": false
        },
        "nteract": {
          "transient": {
            "deleting": false
          }
        }
      }
    }
  ],
  "metadata": {
    "kernel_info": {
      "name": "python3"
    },
    "language_info": {
      "name": "python",
      "version": "3.7.3",
      "mimetype": "text/x-python",
      "codemirror_mode": {
        "name": "ipython",
        "version": 3
      },
      "pygments_lexer": "ipython3",
      "nbconvert_exporter": "python",
      "file_extension": ".py"
    },
    "kernelspec": {
      "argv": [
        "python",
        "-m",
        "ipykernel_launcher",
        "-f",
        "{connection_file}"
      ],
      "display_name": "Python 3",
      "language": "python",
      "name": "python3"
    },
    "nteract": {
      "version": "0.24.1"
    }
  },
  "nbformat": 4,
  "nbformat_minor": 0
}
